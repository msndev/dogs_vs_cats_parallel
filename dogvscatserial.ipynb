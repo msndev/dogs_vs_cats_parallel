{
  "nbformat": 4,
  "nbformat_minor": 0,
  "metadata": {
    "colab": {
      "provenance": [],
      "toc_visible": true
    },
    "kernelspec": {
      "name": "python3",
      "display_name": "Python 3"
    }
  },
  "cells": [
    {
      "cell_type": "markdown",
      "metadata": {
        "id": "bxws8WqF5bor"
      },
      "source": [
        "# Serial Execution"
      ]
    },
    {
      "cell_type": "markdown",
      "metadata": {
        "id": "HtERc8Y25fss"
      },
      "source": [
        "\n",
        "\n",
        "# Checking if images are downloded correctly"
      ]
    },
    {
      "cell_type": "code",
      "metadata": {
        "id": "TG-tg-KpCFrA"
      },
      "source": [
        "import numpy as np\n",
        "import matplotlib.pyplot as plt\n",
        "import os\n",
        "import cv2\n",
        "\n",
        "datadir='/content/PetImages'\n",
        "categories=['Dog','Cat']\n",
        "\n",
        "for category in categories:\n",
        "  path=os.path.join(datadir,category)\n",
        "  for img in os.listdir(path):\n",
        "    img_array=cv2.imread(os.path.join(path,img),cv2.IMREAD_GRAYSCALE)\n",
        "    plt.imshow(img_array,cmap='gray')\n",
        "    plt.show()\n",
        "    break\n",
        "  break"
      ],
      "execution_count": null,
      "outputs": []
    },
    {
      "cell_type": "markdown",
      "metadata": {
        "id": "lSAvNZUxCpGg"
      },
      "source": [
        "# Creating the dataset serially\n"
      ]
    },
    {
      "cell_type": "code",
      "metadata": {
        "id": "alFXHD7bCxUM"
      },
      "source": [
        "import time\n",
        "training_data=[]\n",
        "\n",
        "start=time.time()\n",
        "def create_training_data():\n",
        "  for category in categories:\n",
        "    path = os.path.join(datadir, category)\n",
        "    class_num=categories.index(category)\n",
        "    for img in os.listdir(path):\n",
        "      try:\n",
        "        img_array = cv2.imread(os.path.join(path,img),cv2.IMREAD_GRAYSCALE)\n",
        "        new_array = cv2.resize(img_array,(img_size, img_size))\n",
        "        training_data.append([new_array,class_num])\n",
        "      except Exception as e:\n",
        "        pass\n",
        "create_training_data()\n",
        "end=time.time()\n",
        "dataset_creating_time=end-start"
      ],
      "execution_count": null,
      "outputs": []
    },
    {
      "cell_type": "code",
      "metadata": {
        "id": "tWNEdeW6EV1S"
      },
      "source": [
        "print(training_data[0])"
      ],
      "execution_count": null,
      "outputs": []
    },
    {
      "cell_type": "markdown",
      "metadata": {
        "id": "FUQ_PrZHEeUI"
      },
      "source": [
        "Length and total time for creating dataset serially\n"
      ]
    },
    {
      "cell_type": "code",
      "metadata": {
        "id": "sbhNbO6QEjCW"
      },
      "source": [
        "print(len(training_data))"
      ],
      "execution_count": null,
      "outputs": []
    },
    {
      "cell_type": "code",
      "metadata": {
        "id": "3NeZHEptEpgQ"
      },
      "source": [
        "print(dataset_creating_time)"
      ],
      "execution_count": null,
      "outputs": []
    },
    {
      "cell_type": "markdown",
      "metadata": {
        "id": "r0-S_nVGEvHq"
      },
      "source": [
        "# Shuffling the data\n"
      ]
    },
    {
      "cell_type": "code",
      "metadata": {
        "id": "wZGzVlt1E1YO"
      },
      "source": [
        "rstart=time.time()\n",
        "import random\n",
        "random.shuffle(training_data)\n",
        "rend = time.time()\n",
        "\n",
        "rtime=rend-start"
      ],
      "execution_count": null,
      "outputs": []
    },
    {
      "cell_type": "code",
      "metadata": {
        "id": "-RIZXBWBFDe2"
      },
      "source": [
        "print(rend-rstart)"
      ],
      "execution_count": null,
      "outputs": []
    },
    {
      "cell_type": "code",
      "metadata": {
        "id": "H7YIs6kLFGtH"
      },
      "source": [
        "X=[]\n",
        "y=[]"
      ],
      "execution_count": null,
      "outputs": []
    },
    {
      "cell_type": "code",
      "metadata": {
        "id": "cbvNfJOIFMxO"
      },
      "source": [
        "for features,label in training_data:\n",
        "  X.append(features)\n",
        "  y.append(label)\n",
        "  X = np.array(X).reshape(-1,img_size,img_size,1)"
      ],
      "execution_count": null,
      "outputs": []
    },
    {
      "cell_type": "code",
      "metadata": {
        "id": "IItp9RxgFfDp"
      },
      "source": [
        "import pickle\n",
        "pickle out =open(\"X.pickle\",\"wb\")"
      ],
      "execution_count": null,
      "outputs": []
    },
    {
      "cell_type": "markdown",
      "metadata": {
        "id": "CrPnuYQ-Tlv_"
      },
      "source": [
        "# Training the dataset (model)"
      ]
    },
    {
      "cell_type": "code",
      "metadata": {
        "id": "KpzrhVo7TqOE"
      },
      "source": [
        "import tensorflow as tf\n",
        "from tensorflow.keras.models import Sequential\n",
        "from tensorflow.keras.layers import Dense,Dropout,Activation,Flatten,Conv2D,MaxPooling2D\n",
        "import pickle\n",
        "import time\n",
        "\n",
        "\n",
        "X=X/255.0\n",
        "\n",
        "start = time.time()\n",
        "\n",
        "\n",
        "model= Sequential()\n",
        "model.add( Conv2D(64,(3,3),input_shape = X.shape[1:]))\n",
        "\n",
        "model.add(Activation(\"relu\"))\n",
        "model.add(MaxPooling2D(pool_size=(2,2)))\n",
        "\n",
        "model.add(Conv2D(64,(3,3)))\n",
        "model.add(Activation(\"relu\"))\n",
        "model.add(MaxPooling2D(pool_size=(2,2)))\n",
        "\n",
        "model.add(Flatten())\n",
        "model.add(Dense(64))\n",
        "model.add(Activation('relu'))\n",
        "\n",
        "model.add(Dense(1))\n",
        "model.add(Activation('sigmoid'))\n",
        "\n",
        "model.compile(loss='binary_crossentropy',optimizer='adam',metrics=['accurancy'])\n",
        "\n",
        "model.fit(X,y,batch_size=32,epochs=10,validation_split=0.1)\n",
        "\n",
        "end = time.time()\n",
        "training_time = end-start"
      ],
      "execution_count": null,
      "outputs": []
    },
    {
      "cell_type": "markdown",
      "metadata": {
        "id": "RcpRCqUIo7Lf"
      },
      "source": [
        "Total time for training the data"
      ]
    },
    {
      "cell_type": "code",
      "metadata": {
        "id": "FvVYTsAghNHa"
      },
      "source": [
        "print(training_time)"
      ],
      "execution_count": null,
      "outputs": []
    },
    {
      "cell_type": "markdown",
      "metadata": {
        "id": "RCVIpMTdoxiG"
      },
      "source": [
        "# Total Serial Execution Time"
      ]
    },
    {
      "cell_type": "code",
      "metadata": {
        "id": "J3zAKH9koyRJ"
      },
      "source": [
        "total_serial_execution_time=dataset_creating_time+training_time+rtime\n",
        "print(total_serial_execution_time)"
      ],
      "execution_count": null,
      "outputs": []
    },
    {
      "cell_type": "markdown",
      "metadata": {
        "id": "qnmUYvITT31H"
      },
      "source": [
        "# Making a prediction"
      ]
    },
    {
      "cell_type": "code",
      "metadata": {
        "id": "wrUFzRhpT7dy"
      },
      "source": [
        "import cv2\n",
        "import tenserflow as tf\n",
        "\n",
        "categories=['Dog','Cat']\n",
        "\n",
        "def prepare(filepath):\n",
        "  image_size=120\n",
        "  a=cv2.imread(filepath)\n",
        "  a1=cv2.resize(a,(img_size,img_size))\n",
        "  return reshape(-1,img_size,img_size,1)\n",
        "\n",
        "prediction=model.predict([prepare('/content/dog1.png')])\n",
        "print(categories[int(prediction[0][0])])"
      ],
      "execution_count": null,
      "outputs": []
    }
  ]
}